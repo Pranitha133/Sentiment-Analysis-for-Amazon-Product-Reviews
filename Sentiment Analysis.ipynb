{
 "cells": [
  {
   "cell_type": "code",
   "execution_count": 1,
   "id": "5f483af1",
   "metadata": {},
   "outputs": [
    {
     "name": "stderr",
     "output_type": "stream",
     "text": [
      "[nltk_data] Downloading package wordnet to\n",
      "[nltk_data]     C:\\Users\\prani\\AppData\\Roaming\\nltk_data...\n",
      "[nltk_data]   Package wordnet is already up-to-date!\n"
     ]
    }
   ],
   "source": [
    "import pandas as pd\n",
    "import numpy as np\n",
    "import seaborn as sns\n",
    "import matplotlib.pyplot as plt\n",
    "import nltk\n",
    "nltk.download('wordnet')\n",
    "import re\n",
    "from bs4 import BeautifulSoup\n",
    "import warnings\n",
    "warnings.filterwarnings('ignore')"
   ]
  },
  {
   "cell_type": "markdown",
   "id": "f6a7e5e6",
   "metadata": {},
   "source": [
    "# 1. DATA PREPARATION"
   ]
  },
  {
   "cell_type": "code",
   "execution_count": 2,
   "id": "dad123e0",
   "metadata": {},
   "outputs": [],
   "source": [
    "df = pd.read_table('C:/Users/prani/Downloads/amazon_reviews_us_Beauty_v1_00.tsv.gz', on_bad_lines='skip')"
   ]
  },
  {
   "cell_type": "code",
   "execution_count": 3,
   "id": "c8184e73",
   "metadata": {},
   "outputs": [
    {
     "data": {
      "text/html": [
       "<div>\n",
       "<style scoped>\n",
       "    .dataframe tbody tr th:only-of-type {\n",
       "        vertical-align: middle;\n",
       "    }\n",
       "\n",
       "    .dataframe tbody tr th {\n",
       "        vertical-align: top;\n",
       "    }\n",
       "\n",
       "    .dataframe thead th {\n",
       "        text-align: right;\n",
       "    }\n",
       "</style>\n",
       "<table border=\"1\" class=\"dataframe\">\n",
       "  <thead>\n",
       "    <tr style=\"text-align: right;\">\n",
       "      <th></th>\n",
       "      <th>marketplace</th>\n",
       "      <th>customer_id</th>\n",
       "      <th>review_id</th>\n",
       "      <th>product_id</th>\n",
       "      <th>product_parent</th>\n",
       "      <th>product_title</th>\n",
       "      <th>product_category</th>\n",
       "      <th>star_rating</th>\n",
       "      <th>helpful_votes</th>\n",
       "      <th>total_votes</th>\n",
       "      <th>vine</th>\n",
       "      <th>verified_purchase</th>\n",
       "      <th>review_headline</th>\n",
       "      <th>review_body</th>\n",
       "      <th>review_date</th>\n",
       "    </tr>\n",
       "  </thead>\n",
       "  <tbody>\n",
       "    <tr>\n",
       "      <th>0</th>\n",
       "      <td>US</td>\n",
       "      <td>1797882</td>\n",
       "      <td>R3I2DHQBR577SS</td>\n",
       "      <td>B001ANOOOE</td>\n",
       "      <td>2102612</td>\n",
       "      <td>The Naked Bee Vitmin C Moisturizing Sunscreen ...</td>\n",
       "      <td>Beauty</td>\n",
       "      <td>5</td>\n",
       "      <td>0.0</td>\n",
       "      <td>0.0</td>\n",
       "      <td>N</td>\n",
       "      <td>Y</td>\n",
       "      <td>Five Stars</td>\n",
       "      <td>Love this, excellent sun block!!</td>\n",
       "      <td>2015-08-31</td>\n",
       "    </tr>\n",
       "    <tr>\n",
       "      <th>1</th>\n",
       "      <td>US</td>\n",
       "      <td>18381298</td>\n",
       "      <td>R1QNE9NQFJC2Y4</td>\n",
       "      <td>B0016J22EQ</td>\n",
       "      <td>106393691</td>\n",
       "      <td>Alba Botanica Sunless Tanning Lotion, 4 Ounce</td>\n",
       "      <td>Beauty</td>\n",
       "      <td>5</td>\n",
       "      <td>0.0</td>\n",
       "      <td>0.0</td>\n",
       "      <td>N</td>\n",
       "      <td>Y</td>\n",
       "      <td>Thank you Alba Bontanica!</td>\n",
       "      <td>The great thing about this cream is that it do...</td>\n",
       "      <td>2015-08-31</td>\n",
       "    </tr>\n",
       "    <tr>\n",
       "      <th>2</th>\n",
       "      <td>US</td>\n",
       "      <td>19242472</td>\n",
       "      <td>R3LIDG2Q4LJBAO</td>\n",
       "      <td>B00HU6UQAG</td>\n",
       "      <td>375449471</td>\n",
       "      <td>Elysee Infusion Skin Therapy Elixir, 2oz.</td>\n",
       "      <td>Beauty</td>\n",
       "      <td>5</td>\n",
       "      <td>0.0</td>\n",
       "      <td>0.0</td>\n",
       "      <td>N</td>\n",
       "      <td>Y</td>\n",
       "      <td>Five Stars</td>\n",
       "      <td>Great Product, I'm 65 years old and this is al...</td>\n",
       "      <td>2015-08-31</td>\n",
       "    </tr>\n",
       "    <tr>\n",
       "      <th>3</th>\n",
       "      <td>US</td>\n",
       "      <td>19551372</td>\n",
       "      <td>R3KSZHPAEVPEAL</td>\n",
       "      <td>B002HWS7RM</td>\n",
       "      <td>255651889</td>\n",
       "      <td>Diane D722 Color, Perm And Conditioner Process...</td>\n",
       "      <td>Beauty</td>\n",
       "      <td>5</td>\n",
       "      <td>0.0</td>\n",
       "      <td>0.0</td>\n",
       "      <td>N</td>\n",
       "      <td>Y</td>\n",
       "      <td>GOOD DEAL!</td>\n",
       "      <td>I use them as shower caps &amp; conditioning caps....</td>\n",
       "      <td>2015-08-31</td>\n",
       "    </tr>\n",
       "    <tr>\n",
       "      <th>4</th>\n",
       "      <td>US</td>\n",
       "      <td>14802407</td>\n",
       "      <td>RAI2OIG50KZ43</td>\n",
       "      <td>B00SM99KWU</td>\n",
       "      <td>116158747</td>\n",
       "      <td>Biore UV Aqua Rich Watery Essence SPF50+/PA+++...</td>\n",
       "      <td>Beauty</td>\n",
       "      <td>5</td>\n",
       "      <td>0.0</td>\n",
       "      <td>0.0</td>\n",
       "      <td>N</td>\n",
       "      <td>Y</td>\n",
       "      <td>this soaks in quick and provides a nice base f...</td>\n",
       "      <td>This is my go-to daily sunblock. It leaves no ...</td>\n",
       "      <td>2015-08-31</td>\n",
       "    </tr>\n",
       "    <tr>\n",
       "      <th>...</th>\n",
       "      <td>...</td>\n",
       "      <td>...</td>\n",
       "      <td>...</td>\n",
       "      <td>...</td>\n",
       "      <td>...</td>\n",
       "      <td>...</td>\n",
       "      <td>...</td>\n",
       "      <td>...</td>\n",
       "      <td>...</td>\n",
       "      <td>...</td>\n",
       "      <td>...</td>\n",
       "      <td>...</td>\n",
       "      <td>...</td>\n",
       "      <td>...</td>\n",
       "      <td>...</td>\n",
       "    </tr>\n",
       "    <tr>\n",
       "      <th>5094302</th>\n",
       "      <td>US</td>\n",
       "      <td>50113639</td>\n",
       "      <td>RZ7RZ02MTP4SL</td>\n",
       "      <td>B000050B70</td>\n",
       "      <td>185454094</td>\n",
       "      <td>Conair NE150NSCS Cordless Nose and Ear Hair Tr...</td>\n",
       "      <td>Beauty</td>\n",
       "      <td>5</td>\n",
       "      <td>10.0</td>\n",
       "      <td>10.0</td>\n",
       "      <td>N</td>\n",
       "      <td>N</td>\n",
       "      <td>Great Little Grooming Tool</td>\n",
       "      <td>After watching my Dad struggle with his scisso...</td>\n",
       "      <td>2000-11-12</td>\n",
       "    </tr>\n",
       "    <tr>\n",
       "      <th>5094303</th>\n",
       "      <td>US</td>\n",
       "      <td>52940456</td>\n",
       "      <td>R2IRC0IZ8YCE5T</td>\n",
       "      <td>B000050FF2</td>\n",
       "      <td>678848064</td>\n",
       "      <td>Homedics Envirascape Sound Spa Alarm Clock Radio</td>\n",
       "      <td>Beauty</td>\n",
       "      <td>3</td>\n",
       "      <td>23.0</td>\n",
       "      <td>23.0</td>\n",
       "      <td>N</td>\n",
       "      <td>N</td>\n",
       "      <td>Not bad for the price</td>\n",
       "      <td>Like most sound machines, the sounds choices a...</td>\n",
       "      <td>2000-11-07</td>\n",
       "    </tr>\n",
       "    <tr>\n",
       "      <th>5094304</th>\n",
       "      <td>US</td>\n",
       "      <td>47587881</td>\n",
       "      <td>R1U4ZSXOD228CZ</td>\n",
       "      <td>B000050B6U</td>\n",
       "      <td>862195513</td>\n",
       "      <td>Conair Instant Heat Curling Iron</td>\n",
       "      <td>Beauty</td>\n",
       "      <td>5</td>\n",
       "      <td>89.0</td>\n",
       "      <td>97.0</td>\n",
       "      <td>N</td>\n",
       "      <td>N</td>\n",
       "      <td>Best Curling Iron Ever</td>\n",
       "      <td>I bought this product because it indicated 30 ...</td>\n",
       "      <td>2000-11-02</td>\n",
       "    </tr>\n",
       "    <tr>\n",
       "      <th>5094305</th>\n",
       "      <td>US</td>\n",
       "      <td>53047750</td>\n",
       "      <td>R3SFJLZE09URWM</td>\n",
       "      <td>B000050FDE</td>\n",
       "      <td>195242894</td>\n",
       "      <td>Oral-B Professional Care 1000 Power Toothbrush</td>\n",
       "      <td>Beauty</td>\n",
       "      <td>5</td>\n",
       "      <td>10.0</td>\n",
       "      <td>10.0</td>\n",
       "      <td>N</td>\n",
       "      <td>N</td>\n",
       "      <td>The best electric toothbrush ever, REALLY!</td>\n",
       "      <td>We have used Oral-B products for 15 years; thi...</td>\n",
       "      <td>2000-11-01</td>\n",
       "    </tr>\n",
       "    <tr>\n",
       "      <th>5094306</th>\n",
       "      <td>US</td>\n",
       "      <td>51193940</td>\n",
       "      <td>R1MEWK4I7YS5XK</td>\n",
       "      <td>B000050AUD</td>\n",
       "      <td>190668305</td>\n",
       "      <td>Sonicare PL-4 (4700) Sonic Toothbrush</td>\n",
       "      <td>Beauty</td>\n",
       "      <td>5</td>\n",
       "      <td>23.0</td>\n",
       "      <td>23.0</td>\n",
       "      <td>N</td>\n",
       "      <td>N</td>\n",
       "      <td>Smooth and shiny teeth!</td>\n",
       "      <td>I love this toothbrush. It's easy to use, and ...</td>\n",
       "      <td>2000-10-31</td>\n",
       "    </tr>\n",
       "  </tbody>\n",
       "</table>\n",
       "<p>5094307 rows × 15 columns</p>\n",
       "</div>"
      ],
      "text/plain": [
       "        marketplace  customer_id       review_id  product_id  product_parent  \\\n",
       "0                US      1797882  R3I2DHQBR577SS  B001ANOOOE         2102612   \n",
       "1                US     18381298  R1QNE9NQFJC2Y4  B0016J22EQ       106393691   \n",
       "2                US     19242472  R3LIDG2Q4LJBAO  B00HU6UQAG       375449471   \n",
       "3                US     19551372  R3KSZHPAEVPEAL  B002HWS7RM       255651889   \n",
       "4                US     14802407   RAI2OIG50KZ43  B00SM99KWU       116158747   \n",
       "...             ...          ...             ...         ...             ...   \n",
       "5094302          US     50113639   RZ7RZ02MTP4SL  B000050B70       185454094   \n",
       "5094303          US     52940456  R2IRC0IZ8YCE5T  B000050FF2       678848064   \n",
       "5094304          US     47587881  R1U4ZSXOD228CZ  B000050B6U       862195513   \n",
       "5094305          US     53047750  R3SFJLZE09URWM  B000050FDE       195242894   \n",
       "5094306          US     51193940  R1MEWK4I7YS5XK  B000050AUD       190668305   \n",
       "\n",
       "                                             product_title product_category  \\\n",
       "0        The Naked Bee Vitmin C Moisturizing Sunscreen ...           Beauty   \n",
       "1            Alba Botanica Sunless Tanning Lotion, 4 Ounce           Beauty   \n",
       "2                Elysee Infusion Skin Therapy Elixir, 2oz.           Beauty   \n",
       "3        Diane D722 Color, Perm And Conditioner Process...           Beauty   \n",
       "4        Biore UV Aqua Rich Watery Essence SPF50+/PA+++...           Beauty   \n",
       "...                                                    ...              ...   \n",
       "5094302  Conair NE150NSCS Cordless Nose and Ear Hair Tr...           Beauty   \n",
       "5094303   Homedics Envirascape Sound Spa Alarm Clock Radio           Beauty   \n",
       "5094304                   Conair Instant Heat Curling Iron           Beauty   \n",
       "5094305     Oral-B Professional Care 1000 Power Toothbrush           Beauty   \n",
       "5094306              Sonicare PL-4 (4700) Sonic Toothbrush           Beauty   \n",
       "\n",
       "        star_rating  helpful_votes  total_votes vine verified_purchase  \\\n",
       "0                 5            0.0          0.0    N                 Y   \n",
       "1                 5            0.0          0.0    N                 Y   \n",
       "2                 5            0.0          0.0    N                 Y   \n",
       "3                 5            0.0          0.0    N                 Y   \n",
       "4                 5            0.0          0.0    N                 Y   \n",
       "...             ...            ...          ...  ...               ...   \n",
       "5094302           5           10.0         10.0    N                 N   \n",
       "5094303           3           23.0         23.0    N                 N   \n",
       "5094304           5           89.0         97.0    N                 N   \n",
       "5094305           5           10.0         10.0    N                 N   \n",
       "5094306           5           23.0         23.0    N                 N   \n",
       "\n",
       "                                           review_headline  \\\n",
       "0                                               Five Stars   \n",
       "1                                Thank you Alba Bontanica!   \n",
       "2                                               Five Stars   \n",
       "3                                               GOOD DEAL!   \n",
       "4        this soaks in quick and provides a nice base f...   \n",
       "...                                                    ...   \n",
       "5094302                         Great Little Grooming Tool   \n",
       "5094303                              Not bad for the price   \n",
       "5094304                             Best Curling Iron Ever   \n",
       "5094305         The best electric toothbrush ever, REALLY!   \n",
       "5094306                            Smooth and shiny teeth!   \n",
       "\n",
       "                                               review_body review_date  \n",
       "0                         Love this, excellent sun block!!  2015-08-31  \n",
       "1        The great thing about this cream is that it do...  2015-08-31  \n",
       "2        Great Product, I'm 65 years old and this is al...  2015-08-31  \n",
       "3        I use them as shower caps & conditioning caps....  2015-08-31  \n",
       "4        This is my go-to daily sunblock. It leaves no ...  2015-08-31  \n",
       "...                                                    ...         ...  \n",
       "5094302  After watching my Dad struggle with his scisso...  2000-11-12  \n",
       "5094303  Like most sound machines, the sounds choices a...  2000-11-07  \n",
       "5094304  I bought this product because it indicated 30 ...  2000-11-02  \n",
       "5094305  We have used Oral-B products for 15 years; thi...  2000-11-01  \n",
       "5094306  I love this toothbrush. It's easy to use, and ...  2000-10-31  \n",
       "\n",
       "[5094307 rows x 15 columns]"
      ]
     },
     "execution_count": 3,
     "metadata": {},
     "output_type": "execute_result"
    }
   ],
   "source": [
    "df"
   ]
  },
  {
   "cell_type": "code",
   "execution_count": 4,
   "id": "c33ed4bc",
   "metadata": {},
   "outputs": [
    {
     "data": {
      "text/html": [
       "<div>\n",
       "<style scoped>\n",
       "    .dataframe tbody tr th:only-of-type {\n",
       "        vertical-align: middle;\n",
       "    }\n",
       "\n",
       "    .dataframe tbody tr th {\n",
       "        vertical-align: top;\n",
       "    }\n",
       "\n",
       "    .dataframe thead th {\n",
       "        text-align: right;\n",
       "    }\n",
       "</style>\n",
       "<table border=\"1\" class=\"dataframe\">\n",
       "  <thead>\n",
       "    <tr style=\"text-align: right;\">\n",
       "      <th></th>\n",
       "      <th>star_rating</th>\n",
       "      <th>review_body</th>\n",
       "    </tr>\n",
       "  </thead>\n",
       "  <tbody>\n",
       "    <tr>\n",
       "      <th>0</th>\n",
       "      <td>5</td>\n",
       "      <td>Love this, excellent sun block!!</td>\n",
       "    </tr>\n",
       "    <tr>\n",
       "      <th>1</th>\n",
       "      <td>5</td>\n",
       "      <td>The great thing about this cream is that it do...</td>\n",
       "    </tr>\n",
       "    <tr>\n",
       "      <th>2</th>\n",
       "      <td>5</td>\n",
       "      <td>Great Product, I'm 65 years old and this is al...</td>\n",
       "    </tr>\n",
       "    <tr>\n",
       "      <th>3</th>\n",
       "      <td>5</td>\n",
       "      <td>I use them as shower caps &amp; conditioning caps....</td>\n",
       "    </tr>\n",
       "    <tr>\n",
       "      <th>4</th>\n",
       "      <td>5</td>\n",
       "      <td>This is my go-to daily sunblock. It leaves no ...</td>\n",
       "    </tr>\n",
       "    <tr>\n",
       "      <th>...</th>\n",
       "      <td>...</td>\n",
       "      <td>...</td>\n",
       "    </tr>\n",
       "    <tr>\n",
       "      <th>5094302</th>\n",
       "      <td>5</td>\n",
       "      <td>After watching my Dad struggle with his scisso...</td>\n",
       "    </tr>\n",
       "    <tr>\n",
       "      <th>5094303</th>\n",
       "      <td>3</td>\n",
       "      <td>Like most sound machines, the sounds choices a...</td>\n",
       "    </tr>\n",
       "    <tr>\n",
       "      <th>5094304</th>\n",
       "      <td>5</td>\n",
       "      <td>I bought this product because it indicated 30 ...</td>\n",
       "    </tr>\n",
       "    <tr>\n",
       "      <th>5094305</th>\n",
       "      <td>5</td>\n",
       "      <td>We have used Oral-B products for 15 years; thi...</td>\n",
       "    </tr>\n",
       "    <tr>\n",
       "      <th>5094306</th>\n",
       "      <td>5</td>\n",
       "      <td>I love this toothbrush. It's easy to use, and ...</td>\n",
       "    </tr>\n",
       "  </tbody>\n",
       "</table>\n",
       "<p>5094307 rows × 2 columns</p>\n",
       "</div>"
      ],
      "text/plain": [
       "        star_rating                                        review_body\n",
       "0                 5                   Love this, excellent sun block!!\n",
       "1                 5  The great thing about this cream is that it do...\n",
       "2                 5  Great Product, I'm 65 years old and this is al...\n",
       "3                 5  I use them as shower caps & conditioning caps....\n",
       "4                 5  This is my go-to daily sunblock. It leaves no ...\n",
       "...             ...                                                ...\n",
       "5094302           5  After watching my Dad struggle with his scisso...\n",
       "5094303           3  Like most sound machines, the sounds choices a...\n",
       "5094304           5  I bought this product because it indicated 30 ...\n",
       "5094305           5  We have used Oral-B products for 15 years; thi...\n",
       "5094306           5  I love this toothbrush. It's easy to use, and ...\n",
       "\n",
       "[5094307 rows x 2 columns]"
      ]
     },
     "execution_count": 4,
     "metadata": {},
     "output_type": "execute_result"
    }
   ],
   "source": [
    "df2 = df[[\"star_rating\",\"review_body\"]]\n",
    "df2"
   ]
  },
  {
   "cell_type": "markdown",
   "id": "2236900c",
   "metadata": {},
   "source": [
    "### We only take the random 20000 rows from the data having ratings 1 and 2, 20000 rows from the data having rating 3 and 20000 rows from the data having rating 4 and 5. We use sample() to choose the random 20000 rows from the dataframe. We then take all the dataframes with 20000 rows having each class into a new dataframe with 60000 rows.\n"
   ]
  },
  {
   "cell_type": "code",
   "execution_count": 5,
   "id": "62ba8e66",
   "metadata": {},
   "outputs": [],
   "source": [
    "c1 = df2[df2['star_rating'] == '1']\n",
    "c2 = df2[df2['star_rating'] == '2']\n",
    "frames = [c1,c2]\n",
    "class1 = pd.concat(frames)\n",
    "cls1 = class1.sample(20000)\n",
    "c3 = df2[df2['star_rating'] == '3']\n",
    "cls2 = c3.sample(20000)\n",
    "c4 = df2[df2['star_rating'] == '4']\n",
    "c5 = df2[df2['star_rating'] == '5']\n",
    "frames1 = [c4,c5]\n",
    "class3 = pd.concat(frames1)\n",
    "cls3 = class3.sample(20000)\n",
    "frames2 = [cls1,cls2,cls3]"
   ]
  },
  {
   "cell_type": "code",
   "execution_count": 6,
   "id": "8056ced4",
   "metadata": {},
   "outputs": [
    {
     "data": {
      "text/html": [
       "<div>\n",
       "<style scoped>\n",
       "    .dataframe tbody tr th:only-of-type {\n",
       "        vertical-align: middle;\n",
       "    }\n",
       "\n",
       "    .dataframe tbody tr th {\n",
       "        vertical-align: top;\n",
       "    }\n",
       "\n",
       "    .dataframe thead th {\n",
       "        text-align: right;\n",
       "    }\n",
       "</style>\n",
       "<table border=\"1\" class=\"dataframe\">\n",
       "  <thead>\n",
       "    <tr style=\"text-align: right;\">\n",
       "      <th></th>\n",
       "      <th>star_rating</th>\n",
       "      <th>review_body</th>\n",
       "    </tr>\n",
       "  </thead>\n",
       "  <tbody>\n",
       "    <tr>\n",
       "      <th>2247814</th>\n",
       "      <td>1</td>\n",
       "      <td>They are too small, and it break the hair its ...</td>\n",
       "    </tr>\n",
       "    <tr>\n",
       "      <th>1795551</th>\n",
       "      <td>1</td>\n",
       "      <td>It's fake and smell is horrible.</td>\n",
       "    </tr>\n",
       "    <tr>\n",
       "      <th>562454</th>\n",
       "      <td>2</td>\n",
       "      <td>This smells like diarrhea! I tried it three ti...</td>\n",
       "    </tr>\n",
       "    <tr>\n",
       "      <th>295866</th>\n",
       "      <td>1</td>\n",
       "      <td>First off let me say I absolutely LOVE Demi. I...</td>\n",
       "    </tr>\n",
       "    <tr>\n",
       "      <th>1116206</th>\n",
       "      <td>1</td>\n",
       "      <td>Very small but husband said it'll do</td>\n",
       "    </tr>\n",
       "    <tr>\n",
       "      <th>...</th>\n",
       "      <td>...</td>\n",
       "      <td>...</td>\n",
       "    </tr>\n",
       "    <tr>\n",
       "      <th>2270386</th>\n",
       "      <td>5</td>\n",
       "      <td>Excellent</td>\n",
       "    </tr>\n",
       "    <tr>\n",
       "      <th>194257</th>\n",
       "      <td>5</td>\n",
       "      <td>Good Stuff</td>\n",
       "    </tr>\n",
       "    <tr>\n",
       "      <th>1524397</th>\n",
       "      <td>5</td>\n",
       "      <td>Love the natural ingredients and the pricing.</td>\n",
       "    </tr>\n",
       "    <tr>\n",
       "      <th>1208842</th>\n",
       "      <td>5</td>\n",
       "      <td>This blade works very well for me. Very happy !</td>\n",
       "    </tr>\n",
       "    <tr>\n",
       "      <th>12764</th>\n",
       "      <td>4</td>\n",
       "      <td>and only if, you use it right.&lt;br /&gt;&lt;br /&gt;Use ...</td>\n",
       "    </tr>\n",
       "  </tbody>\n",
       "</table>\n",
       "<p>60000 rows × 2 columns</p>\n",
       "</div>"
      ],
      "text/plain": [
       "        star_rating                                        review_body\n",
       "2247814           1  They are too small, and it break the hair its ...\n",
       "1795551           1                   It's fake and smell is horrible.\n",
       "562454            2  This smells like diarrhea! I tried it three ti...\n",
       "295866            1  First off let me say I absolutely LOVE Demi. I...\n",
       "1116206           1               Very small but husband said it'll do\n",
       "...             ...                                                ...\n",
       "2270386           5                                          Excellent\n",
       "194257            5                                         Good Stuff\n",
       "1524397           5      Love the natural ingredients and the pricing.\n",
       "1208842           5    This blade works very well for me. Very happy !\n",
       "12764             4  and only if, you use it right.<br /><br />Use ...\n",
       "\n",
       "[60000 rows x 2 columns]"
      ]
     },
     "execution_count": 6,
     "metadata": {},
     "output_type": "execute_result"
    }
   ],
   "source": [
    "samp = pd.concat(frames2)\n",
    "samp"
   ]
  },
  {
   "cell_type": "code",
   "execution_count": 7,
   "id": "a3c59ac6",
   "metadata": {
    "scrolled": true
   },
   "outputs": [
    {
     "data": {
      "image/png": "[encoded data removed]",
      "text/plain": [
       "<Figure size 432x288 with 1 Axes>"
      ]
     },
     "metadata": {
      "needs_background": "light"
     },
     "output_type": "display_data"
    }
   ],
   "source": [
    "sns.countplot(samp.star_rating)\n",
    "plt.title('Countplot of the Sentiments')\n",
    "plt.show()"
   ]
  },
  {
   "cell_type": "markdown",
   "id": "cab2273e",
   "metadata": {},
   "source": [
    "# 2. DATA CLEANING"
   ]
  },
  {
   "cell_type": "code",
   "execution_count": 8,
   "id": "36d0be16",
   "metadata": {},
   "outputs": [
    {
     "data": {
      "text/plain": [
       "189.06201033505585"
      ]
     },
     "execution_count": 8,
     "metadata": {},
     "output_type": "execute_result"
    }
   ],
   "source": [
    "len_before_DC = samp['review_body'].str.len().mean()\n",
    "samp['review_body'] = samp['review_body'].str.replace('http[s]?://(?:[a-z]|[0-9]|[$-_@.&+]|[!*\\(\\),]|(?:%[0-9a-f][0-9a-f]))+', ' ')\n",
    "samp['review_body'] = samp['review_body'].str.replace(r'<[^<>]*>', '', regex=True)\n",
    "len_before_DC"
   ]
  },
  {
   "cell_type": "code",
   "execution_count": 9,
   "id": "b97f3ae0",
   "metadata": {},
   "outputs": [
    {
     "name": "stdout",
     "output_type": "stream",
     "text": [
      "Requirement already satisfied: contractions in c:\\users\\prani\\anaconda3\\lib\\site-packages (0.1.73)\n",
      "Requirement already satisfied: textsearch>=0.0.21 in c:\\users\\prani\\anaconda3\\lib\\site-packages (from contractions) (0.0.24)\n",
      "Requirement already satisfied: pyahocorasick in c:\\users\\prani\\anaconda3\\lib\\site-packages (from textsearch>=0.0.21->contractions) (2.0.0)\n",
      "Requirement already satisfied: anyascii in c:\\users\\prani\\anaconda3\\lib\\site-packages (from textsearch>=0.0.21->contractions) (0.3.2)\n"
     ]
    }
   ],
   "source": [
    "import sys \n",
    "!{sys.executable} -m pip install contractions\n",
    "import contractions\n",
    "def cont_to_exp(x):\n",
    "    if type(x) is str:\n",
    "        x = x.replace(x, contractions.fix(x))\n",
    "        return x\n",
    "    else:\n",
    "        return x\n",
    "samp['review_body'] = samp['review_body'].apply(lambda x : cont_to_exp(x))\n",
    "samp = samp.apply(lambda x: x.astype(str).str.lower())\n",
    "samp['review_body'] = samp['review_body'].str.replace('[^a-z]', ' ')\n",
    "samp['review_body'] = samp['review_body'].str.replace(' ', ' ')\n"
   ]
  },
  {
   "cell_type": "code",
   "execution_count": 10,
   "id": "931c7280",
   "metadata": {},
   "outputs": [
    {
     "name": "stdout",
     "output_type": "stream",
     "text": [
      "Average length of the reviews before and after data cleaning respectively: 189.06201033505585 , 188.6813\n"
     ]
    }
   ],
   "source": [
    "len_after_DC = samp['review_body'].str.len().mean()\n",
    "print('Average length of the reviews before and after data cleaning respectively:', len_before_DC, ',', len_after_DC)"
   ]
  },
  {
   "cell_type": "markdown",
   "id": "cbbfb69d",
   "metadata": {},
   "source": [
    "# 3. DATA PREPROCESSING"
   ]
  },
  {
   "cell_type": "code",
   "execution_count": 11,
   "id": "f3691eff",
   "metadata": {},
   "outputs": [],
   "source": [
    "import nltk\n",
    "from nltk.corpus import stopwords\n"
   ]
  },
  {
   "cell_type": "code",
   "execution_count": 12,
   "id": "af987345",
   "metadata": {},
   "outputs": [],
   "source": [
    "def class_category(row):\n",
    "    if row['star_rating'] == '1' or row['star_rating'] == '2':\n",
    "        val = 1\n",
    "    elif row['star_rating'] == '3':\n",
    "        val = 2\n",
    "    else:\n",
    "        val = 3\n",
    "    return val\n",
    "samp['classification'] = samp.apply(class_category, axis=1)"
   ]
  },
  {
   "cell_type": "markdown",
   "id": "fc8b07d4",
   "metadata": {},
   "source": [
    "# Word2Vec"
   ]
  },
  {
   "cell_type": "code",
   "execution_count": 13,
   "id": "dc14d171",
   "metadata": {},
   "outputs": [
    {
     "name": "stdout",
     "output_type": "stream",
     "text": [
      "Requirement already satisfied: gensim in c:\\users\\prani\\anaconda3\\lib\\site-packages (4.1.2)\n",
      "Requirement already satisfied: smart-open>=1.8.1 in c:\\users\\prani\\anaconda3\\lib\\site-packages (from gensim) (5.1.0)\n",
      "Requirement already satisfied: numpy>=1.17.0 in c:\\users\\prani\\anaconda3\\lib\\site-packages (from gensim) (1.21.5)\n",
      "Requirement already satisfied: scipy>=0.18.1 in c:\\users\\prani\\anaconda3\\lib\\site-packages (from gensim) (1.7.3)\n",
      "Note: you may need to restart the kernel to use updated packages.\n"
     ]
    }
   ],
   "source": [
    "pip install gensim\n"
   ]
  },
  {
   "cell_type": "code",
   "execution_count": 14,
   "id": "43375249",
   "metadata": {},
   "outputs": [],
   "source": [
    "import gensim.downloader as api\n",
    "wv = api.load('word2vec-google-news-300')"
   ]
  },
  {
   "cell_type": "code",
   "execution_count": 15,
   "id": "6e06952b",
   "metadata": {},
   "outputs": [],
   "source": [
    "embeddings = []\n",
    "for review in samp['review_body']:\n",
    "    sample = []\n",
    "for word in review:\n",
    "    if word in wv.key_to_index:\n",
    "        word_embed = wv[word]\n",
    "        sample.append(word_embed)\n",
    "        embeddings.append(sample)"
   ]
  },
  {
   "cell_type": "code",
   "execution_count": 16,
   "id": "8fb0b1eb",
   "metadata": {},
   "outputs": [
    {
     "name": "stdout",
     "output_type": "stream",
     "text": [
      "excellent - outstanding:  0.5567486\n",
      "woman - girl:  0.7494641\n",
      "summer - winter:  0.7155519\n"
     ]
    }
   ],
   "source": [
    "print(\"excellent - outstanding: \", wv.similarity('excellent','outstanding'))\n",
    "print(\"woman - girl: \", wv.similarity('woman','girl'))\n",
    "print(\"summer - winter: \", wv.similarity('summer','winter'))\n"
   ]
  },
  {
   "cell_type": "code",
   "execution_count": 18,
   "id": "3ebb7055",
   "metadata": {},
   "outputs": [],
   "source": [
    "r_list = []\n",
    "for r in samp['review_body']:\n",
    "    r_list.append(r.split())\n",
    "\n",
    "from gensim.models import Word2Vec\n",
    "wvmodel = Word2Vec(sentences=r_list,vector_size=300,window=13,min_count=9)\n"
   ]
  },
  {
   "cell_type": "code",
   "execution_count": 19,
   "id": "8df6221c",
   "metadata": {},
   "outputs": [
    {
     "name": "stdout",
     "output_type": "stream",
     "text": [
      "excellent - outstanding:  0.66893923\n",
      "woman - girl:  0.66677\n",
      "summer - winter:  0.73808956\n"
     ]
    }
   ],
   "source": [
    "try:\n",
    "    print(\"excellent - outstanding: \", wvmodel.wv.similarity('excellent','outstanding'))\n",
    "    \n",
    "except:\n",
    "    pass\n",
    "try:\n",
    "    print(\"woman - girl: \", wvmodel.wv.similarity('woman','girl'))\n",
    "except:\n",
    "    pass\n",
    "try:\n",
    "    print(\"summer - winter: \", wvmodel.wv.similarity('summer','winter'))\n",
    "except:\n",
    "    pass"
   ]
  },
  {
   "cell_type": "code",
   "execution_count": 19,
   "id": "810047a4",
   "metadata": {},
   "outputs": [],
   "source": [
    "## After comparing the vectors generated by the pre-trained Word2Vec model and the model trained on the dataset, \n",
    "#it is evident that the pre-trained model encodes the similarities between words more accurately"
   ]
  },
  {
   "cell_type": "markdown",
   "id": "bfabfcbe",
   "metadata": {},
   "source": [
    "## Simple models"
   ]
  },
  {
   "cell_type": "code",
   "execution_count": 20,
   "id": "e7dcb577",
   "metadata": {},
   "outputs": [],
   "source": [
    "x=[]\n",
    "y=[]\n",
    "for i, row in samp.iterrows():\n",
    "    vec = []\n",
    "    for word in row['review_body'].split():\n",
    "        if word in wv.key_to_index:\n",
    "            vec.append(wv[word])\n",
    "    if vec:\n",
    "        vec = sum(vec) / len(vec)\n",
    "        x.append(vec)\n",
    "        y.append(row['classification'])\n"
   ]
  },
  {
   "cell_type": "code",
   "execution_count": 21,
   "id": "595f7196",
   "metadata": {},
   "outputs": [],
   "source": [
    "def printMetrics(y_test, label):\n",
    "    cr = classification_report(y_test, label, output_dict=True)\n",
    "    report = pd.DataFrame(cr).transpose()\n",
    "    for i in range(4):\n",
    "        if i==3:\n",
    "            print(f'Averages: {report.iloc[i+1][\"precision\"]}, {report.iloc[i+1][\"recall\"]}, {report.iloc[i+1][\"f1-score\"]}\\n')\n",
    "        else:\n",
    "            print(f'Class {i+1}: {report.iloc[i][\"precision\"]}, {report.iloc[i][\"recall\"]}, {report.iloc[i][\"f1-score\"]}\\n')"
   ]
  },
  {
   "cell_type": "code",
   "execution_count": 22,
   "id": "5d5cc364",
   "metadata": {},
   "outputs": [],
   "source": [
    "# splitting into training and testing:\n",
    "\n",
    "from sklearn.model_selection import train_test_split\n",
    "x_train, x_test, y_train, y_test = train_test_split(x,y,test_size = 0.2,stratify=y)"
   ]
  },
  {
   "cell_type": "markdown",
   "id": "465059f3",
   "metadata": {},
   "source": [
    "## Using word2vec"
   ]
  },
  {
   "cell_type": "markdown",
   "id": "f30ce434",
   "metadata": {},
   "source": [
    "### Perceptron"
   ]
  },
  {
   "cell_type": "code",
   "execution_count": 23,
   "id": "a36b6df3",
   "metadata": {},
   "outputs": [
    {
     "name": "stdout",
     "output_type": "stream",
     "text": [
      "Class 1: 0.6599370739381227, 0.6298798798798799, 0.6445582586427657\n",
      "\n",
      "Class 2: 0.5566446318668794, 0.6115702479338843, 0.5828162291169451\n",
      "\n",
      "Class 3: 0.7444326617179216, 0.7048192771084337, 0.7240845796802476\n",
      "\n",
      "Averages: 0.6536714558409745, 0.6487564683073993, 0.6504863558133195\n",
      "\n"
     ]
    }
   ],
   "source": [
    "from sklearn.linear_model import Perceptron\n",
    "from sklearn.metrics import classification_report\n",
    "from sklearn.metrics import accuracy_score\n",
    "\n",
    "model = Perceptron()\n",
    "model.fit(x_train, y_train)\n",
    "labelPredict = model.predict(x_test)\n",
    "accuracy_score(y_test, labelPredict)\n",
    "\n",
    "printMetrics(y_test, labelPredict) "
   ]
  },
  {
   "cell_type": "code",
   "execution_count": 24,
   "id": "262c0f9b",
   "metadata": {},
   "outputs": [
    {
     "name": "stdout",
     "output_type": "stream",
     "text": [
      "Accuracy for Perceptron - Word2Vec:  0.6487095965923327\n"
     ]
    }
   ],
   "source": [
    "# Accuracy\n",
    "print(\"Accuracy for Perceptron - Word2Vec: \", accuracy_score(y_test, labelPredict))"
   ]
  },
  {
   "cell_type": "markdown",
   "id": "49cf1891",
   "metadata": {},
   "source": [
    "### SVM"
   ]
  },
  {
   "cell_type": "code",
   "execution_count": 25,
   "id": "a9a51783",
   "metadata": {},
   "outputs": [
    {
     "name": "stdout",
     "output_type": "stream",
     "text": [
      "Class 1: 0.6661931818181818, 0.7042042042042042, 0.6846715328467152\n",
      "\n",
      "Class 2: 0.6059165346011621, 0.5745053844227398, 0.5897930325234606\n",
      "\n",
      "Class 3: 0.7537219278324502, 0.7497489959839357, 0.751730212658865\n",
      "\n",
      "Averages: 0.675277214750598, 0.67615286153696, 0.6753982593430136\n",
      "\n"
     ]
    }
   ],
   "source": [
    "from sklearn.svm import LinearSVC\n",
    "from sklearn.metrics import classification_report\n",
    "\n",
    "SVMmodel = LinearSVC()\n",
    "SVMmodel.fit(x_train, y_train)\n",
    "SVMLabelPredict = SVMmodel.predict(x_test)\n",
    "accuracy_score(y_test, SVMLabelPredict)\n",
    "\n",
    "printMetrics(y_test, SVMLabelPredict) "
   ]
  },
  {
   "cell_type": "code",
   "execution_count": 26,
   "id": "02d2d255",
   "metadata": {},
   "outputs": [
    {
     "name": "stdout",
     "output_type": "stream",
     "text": [
      "Accuracy for SVM - Wrod2Vec:  0.676104568612712\n"
     ]
    }
   ],
   "source": [
    "print(\"Accuracy for SVM - Wrod2Vec: \", accuracy_score(y_test, SVMLabelPredict))"
   ]
  },
  {
   "cell_type": "markdown",
   "id": "dd05e76d",
   "metadata": {},
   "source": [
    "# TFIDF"
   ]
  },
  {
   "cell_type": "code",
   "execution_count": 27,
   "id": "c043414d",
   "metadata": {},
   "outputs": [],
   "source": [
    "from sklearn.feature_extraction.text import TfidfVectorizer\n",
    "vectorizer = TfidfVectorizer(ngram_range=(1,3))\n",
    "X = vectorizer.fit_transform(samp['review_body'])\n"
   ]
  },
  {
   "cell_type": "code",
   "execution_count": 28,
   "id": "201017e8",
   "metadata": {},
   "outputs": [],
   "source": [
    "xt_train, xt_test, yt_train, yt_test = train_test_split(X,samp['classification'],test_size = 0.2,stratify=samp['classification'])"
   ]
  },
  {
   "cell_type": "markdown",
   "id": "04a535ab",
   "metadata": {},
   "source": [
    "## Perceptron"
   ]
  },
  {
   "cell_type": "code",
   "execution_count": 29,
   "id": "684a3791",
   "metadata": {},
   "outputs": [
    {
     "name": "stdout",
     "output_type": "stream",
     "text": [
      "Class 1: 0.6946996466431096, 0.73725, 0.7153426318981201\n",
      "\n",
      "Class 2: 0.6161149602258147, 0.60025, 0.6080790173483601\n",
      "\n",
      "Class 3: 0.8055987558320373, 0.777, 0.7910409773479257\n",
      "\n",
      "Averages: 0.7054711209003205, 0.7048333333333333, 0.7048208755314688\n",
      "\n"
     ]
    }
   ],
   "source": [
    "from sklearn.linear_model import Perceptron\n",
    "\n",
    "tfidfmodel = Perceptron()\n",
    "tfidfmodel.fit(xt_train, yt_train)\n",
    "tfidflabelPredict = tfidfmodel.predict(xt_test)\n",
    "accuracy_score(yt_test, tfidflabelPredict)\n",
    "\n",
    "printMetrics(yt_test, tfidflabelPredict) "
   ]
  },
  {
   "cell_type": "code",
   "execution_count": 30,
   "id": "140e4dca",
   "metadata": {},
   "outputs": [
    {
     "name": "stdout",
     "output_type": "stream",
     "text": [
      "Accuracy for Perceptron - TF-IDF:  0.7048333333333333\n"
     ]
    }
   ],
   "source": [
    "# Accuracy\n",
    "print(\"Accuracy for Perceptron - TF-IDF: \", accuracy_score(yt_test, tfidflabelPredict))"
   ]
  },
  {
   "cell_type": "markdown",
   "id": "c8a957a0",
   "metadata": {},
   "source": [
    "## SVM"
   ]
  },
  {
   "cell_type": "code",
   "execution_count": 31,
   "id": "fb59e852",
   "metadata": {},
   "outputs": [
    {
     "name": "stdout",
     "output_type": "stream",
     "text": [
      "Class 1: 0.7421026653504442, 0.75175, 0.7468951813214109\n",
      "\n",
      "Class 2: 0.655154771041187, 0.64025, 0.6476166392717159\n",
      "\n",
      "Class 3: 0.8167863332508046, 0.82475, 0.8207488493593731\n",
      "\n",
      "Averages: 0.7380145898808119, 0.7389166666666666, 0.7384202233175\n",
      "\n"
     ]
    }
   ],
   "source": [
    "from sklearn.svm import LinearSVC\n",
    "\n",
    "tfidfSVMmodel = LinearSVC()\n",
    "tfidfSVMmodel.fit(xt_train, yt_train)\n",
    "tfidfSVMLabelPredict = tfidfSVMmodel.predict(xt_test)\n",
    "accuracy_score(yt_test, tfidfSVMLabelPredict)\n",
    "\n",
    "printMetrics(yt_test, tfidfSVMLabelPredict) "
   ]
  },
  {
   "cell_type": "code",
   "execution_count": 32,
   "id": "04d3e7a3",
   "metadata": {},
   "outputs": [
    {
     "name": "stdout",
     "output_type": "stream",
     "text": [
      "Accuracy for SVM - TF-IDF:  0.7389166666666667\n"
     ]
    }
   ],
   "source": [
    "#Accuracy\n",
    "print(\"Accuracy for SVM - TF-IDF: \", accuracy_score(yt_test, tfidfSVMLabelPredict))"
   ]
  },
  {
   "cell_type": "markdown",
   "id": "46687d2b",
   "metadata": {},
   "source": [
    "# RNN"
   ]
  },
  {
   "cell_type": "code",
   "execution_count": 33,
   "id": "3dae62b3",
   "metadata": {},
   "outputs": [],
   "source": [
    "vectors_five = []\n",
    "labels_five = []\n",
    "for i,row in samp.iterrows():\n",
    "    words = row['review_body'].split()\n",
    "    \n",
    "    if len(words) >= 20:\n",
    "        words = words[:20]\n",
    "    else:\n",
    "        words += [''] * (20 - len(words))\n",
    "\n",
    "    temp_five = []\n",
    "    for i, word in enumerate(words):\n",
    "        if word in wv.key_to_index:\n",
    "            temp_five.append(wv[word])\n",
    "        else:\n",
    "            temp_five.append([0]*300)\n",
    "\n",
    "    temp_five = np.array(temp_five)\n",
    "    vectors_five.append(temp_five.flatten())\n",
    "    temp_five = []\n",
    "    labels_five.append(row['classification'])"
   ]
  },
  {
   "cell_type": "code",
   "execution_count": 34,
   "id": "8e402545",
   "metadata": {},
   "outputs": [
    {
     "name": "stdout",
     "output_type": "stream",
     "text": [
      "Requirement already satisfied: torch in c:\\users\\prani\\anaconda3\\lib\\site-packages (2.0.1)\n",
      "Requirement already satisfied: typing-extensions in c:\\users\\prani\\anaconda3\\lib\\site-packages (from torch) (4.1.1)\n",
      "Requirement already satisfied: sympy in c:\\users\\prani\\anaconda3\\lib\\site-packages (from torch) (1.10.1)\n",
      "Requirement already satisfied: jinja2 in c:\\users\\prani\\anaconda3\\lib\\site-packages (from torch) (2.11.3)\n",
      "Requirement already satisfied: filelock in c:\\users\\prani\\anaconda3\\lib\\site-packages (from torch) (3.6.0)\n",
      "Requirement already satisfied: networkx in c:\\users\\prani\\anaconda3\\lib\\site-packages (from torch) (2.7.1)\n",
      "Requirement already satisfied: MarkupSafe>=0.23 in c:\\users\\prani\\anaconda3\\lib\\site-packages (from jinja2->torch) (2.0.1)\n",
      "Requirement already satisfied: mpmath>=0.19 in c:\\users\\prani\\anaconda3\\lib\\site-packages (from sympy->torch) (1.2.1)\n",
      "Note: you may need to restart the kernel to use updated packages.\n"
     ]
    }
   ],
   "source": [
    "pip install torch"
   ]
  },
  {
   "cell_type": "code",
   "execution_count": 35,
   "id": "5ae77be2",
   "metadata": {},
   "outputs": [
    {
     "name": "stdout",
     "output_type": "stream",
     "text": [
      "Requirement already satisfied: torchvision in c:\\users\\prani\\anaconda3\\lib\\site-packages (0.15.2)\n",
      "Requirement already satisfied: requests in c:\\users\\prani\\anaconda3\\lib\\site-packages (from torchvision) (2.27.1)\n",
      "Requirement already satisfied: pillow!=8.3.*,>=5.3.0 in c:\\users\\prani\\anaconda3\\lib\\site-packages (from torchvision) (9.0.1)\n",
      "Requirement already satisfied: torch==2.0.1 in c:\\users\\prani\\anaconda3\\lib\\site-packages (from torchvision) (2.0.1)\n",
      "Requirement already satisfied: numpy in c:\\users\\prani\\anaconda3\\lib\\site-packages (from torchvision) (1.21.5)\n",
      "Requirement already satisfied: sympy in c:\\users\\prani\\anaconda3\\lib\\site-packages (from torch==2.0.1->torchvision) (1.10.1)\n",
      "Requirement already satisfied: jinja2 in c:\\users\\prani\\anaconda3\\lib\\site-packages (from torch==2.0.1->torchvision) (2.11.3)\n",
      "Requirement already satisfied: typing-extensions in c:\\users\\prani\\anaconda3\\lib\\site-packages (from torch==2.0.1->torchvision) (4.1.1)\n",
      "Requirement already satisfied: filelock in c:\\users\\prani\\anaconda3\\lib\\site-packages (from torch==2.0.1->torchvision) (3.6.0)\n",
      "Requirement already satisfied: networkx in c:\\users\\prani\\anaconda3\\lib\\site-packages (from torch==2.0.1->torchvision) (2.7.1)\n",
      "Requirement already satisfied: MarkupSafe>=0.23 in c:\\users\\prani\\anaconda3\\lib\\site-packages (from jinja2->torch==2.0.1->torchvision) (2.0.1)\n",
      "Requirement already satisfied: certifi>=2017.4.17 in c:\\users\\prani\\anaconda3\\lib\\site-packages (from requests->torchvision) (2021.10.8)\n",
      "Requirement already satisfied: charset-normalizer~=2.0.0 in c:\\users\\prani\\anaconda3\\lib\\site-packages (from requests->torchvision) (2.0.4)\n",
      "Requirement already satisfied: idna<4,>=2.5 in c:\\users\\prani\\anaconda3\\lib\\site-packages (from requests->torchvision) (3.3)\n",
      "Requirement already satisfied: urllib3<1.27,>=1.21.1 in c:\\users\\prani\\anaconda3\\lib\\site-packages (from requests->torchvision) (1.26.9)\n",
      "Requirement already satisfied: mpmath>=0.19 in c:\\users\\prani\\anaconda3\\lib\\site-packages (from sympy->torch==2.0.1->torchvision) (1.2.1)\n",
      "Note: you may need to restart the kernel to use updated packages.\n"
     ]
    }
   ],
   "source": [
    "pip install torchvision"
   ]
  },
  {
   "cell_type": "code",
   "execution_count": 36,
   "id": "155b4994",
   "metadata": {},
   "outputs": [],
   "source": [
    "import torch\n",
    "import torch.nn as nn\n",
    "import torchvision\n",
    "import torch.nn.utils.rnn as rnn_utils"
   ]
  },
  {
   "cell_type": "code",
   "execution_count": 37,
   "id": "4376a697",
   "metadata": {},
   "outputs": [],
   "source": [
    "\n",
    "vectors_five = torch.tensor(vectors_five)\n",
    "labels_five = torch.tensor([int(label) for label in labels_five])"
   ]
  },
  {
   "cell_type": "code",
   "execution_count": 38,
   "id": "3541a58f",
   "metadata": {},
   "outputs": [],
   "source": [
    "# Splitting into train and test\n",
    "from sklearn.model_selection import train_test_split\n",
    "pt_train, pt_test, qt_train, qt_test = train_test_split(vectors_five,labels_five,test_size = 0.2,stratify=labels_five)"
   ]
  },
  {
   "cell_type": "code",
   "execution_count": 39,
   "id": "8ada609e",
   "metadata": {},
   "outputs": [],
   "source": [
    "for i in range(len(qt_train)):\n",
    "    qt_train[i] = int(qt_train[i]) - 1\n",
    "for i in range(len(qt_test)):\n",
    "    qt_test[i] = int(qt_test[i]) - 1"
   ]
  },
  {
   "cell_type": "code",
   "execution_count": 40,
   "id": "ab2fc8b2",
   "metadata": {},
   "outputs": [],
   "source": [
    "class RNN(nn.Module):\n",
    "    def __init__(self, input_size, hidden_size, output_size, batch_size):\n",
    "        super(RNN, self).__init__()\n",
    "        self.hidden_size = hidden_size\n",
    "        self.batch_size = batch_size\n",
    "        self.rnn = nn.RNN(input_size, hidden_size, batch_first=True)\n",
    "        self.fc = nn.Linear(hidden_size, output_size)\n",
    "    \n",
    "    def forward(self, x):\n",
    "        h0 = torch.zeros(1, self.batch_size, self.hidden_size).to(device) \n",
    "        out, hn = self.rnn(x, h0) \n",
    "        out = self.fc(out[:, -1, :]) \n",
    "        return out\n",
    "\n",
    "    \n",
    "input_size = 6000 \n",
    "hidden_size = 20\n",
    "output_size = 3 \n",
    "lr = 0.007\n",
    "num_epochs = 100\n",
    "batch_size = 32\n",
    "device = torch.device('cuda' if torch.cuda.is_available() else 'cpu')\n",
    "\n",
    "rnn = RNN(input_size, hidden_size, output_size, batch_size).to(device)\n",
    "\n",
    "criterion = nn.CrossEntropyLoss()\n",
    "optimizer = torch.optim.SGD(rnn.parameters(), lr=lr)"
   ]
  },
  {
   "cell_type": "code",
   "execution_count": 41,
   "id": "0fcea8da",
   "metadata": {},
   "outputs": [
    {
     "name": "stdout",
     "output_type": "stream",
     "text": [
      "Epoch [1/100], Loss: 1.0742\n",
      "Epoch [11/100], Loss: 0.9092\n",
      "Epoch [21/100], Loss: 0.8950\n",
      "Epoch [31/100], Loss: 0.8681\n",
      "Epoch [41/100], Loss: 0.8299\n",
      "Epoch [51/100], Loss: 0.7877\n",
      "Epoch [61/100], Loss: 0.7477\n",
      "Epoch [71/100], Loss: 0.7127\n",
      "Epoch [81/100], Loss: 0.6846\n",
      "Epoch [91/100], Loss: 0.6644\n"
     ]
    }
   ],
   "source": [
    "for epoch in range(num_epochs):\n",
    "    for i in range(0, len(pt_train), batch_size):\n",
    "        batch_data = pt_train[i:i+batch_size].to(torch.float32)\n",
    "        batch_labels = qt_train[i:i+batch_size].to(torch.long)\n",
    "#         batch_data = [data for data in batch_data]\n",
    "        inputs = nn.utils.rnn.pad_sequence(batch_data, batch_first=True, padding_value=0).to(device) # pad sequences to max length\n",
    "        lab = torch.tensor(batch_labels).to(device)\n",
    "#         inputs = torch.tensor(inputs)\n",
    "        inputs = inputs.reshape(batch_size, -1, input_size)\n",
    "        outputs = rnn(inputs)\n",
    "        loss = criterion(outputs, lab)\n",
    "\n",
    "        optimizer.zero_grad()\n",
    "        loss.backward()\n",
    "        optimizer.step()\n",
    "    if epoch % 10 == 0:\n",
    "        print(f'Epoch [{epoch+1}/{num_epochs}], Loss: {loss.item():.4f}')"
   ]
  },
  {
   "cell_type": "code",
   "execution_count": 42,
   "id": "2f753a51",
   "metadata": {},
   "outputs": [
    {
     "name": "stdout",
     "output_type": "stream",
     "text": [
      "Accuracy on RNN: 0.6168\n"
     ]
    }
   ],
   "source": [
    "with torch.no_grad():\n",
    "    correct = 0\n",
    "    total = 0\n",
    "    for i in range(0, len(pt_test), batch_size):\n",
    "        batch_data = pt_test[i:i+batch_size].to(torch.float32)\n",
    "        batch_labels = qt_test[i:i+batch_size].to(torch.long)\n",
    "        inputs = nn.utils.rnn.pad_sequence(batch_data, batch_first=True, padding_value=0).to(device) # pad sequences to max length\n",
    "        lab = torch.tensor(batch_labels).to(device)\n",
    "        inputs = inputs.reshape(batch_size, -1, input_size)\n",
    "        outputs = rnn(inputs)\n",
    "        _, predicted = torch.max(outputs.data, 1)\n",
    "        total += lab.size(0)\n",
    "        correct += (predicted == lab).sum().item()\n",
    "\n",
    "print(f'Accuracy on RNN: {correct / total:.4f}')\n"
   ]
  },
  {
   "cell_type": "code",
   "execution_count": null,
   "id": "933df491",
   "metadata": {},
   "outputs": [],
   "source": []
  }
 ],
 "metadata": {
  "kernelspec": {
   "display_name": "Python 3 (ipykernel)",
   "language": "python",
   "name": "python3"
  },
  "language_info": {
   "codemirror_mode": {
    "name": "ipython",
    "version": 3
   },
   "file_extension": ".py",
   "mimetype": "text/x-python",
   "name": "python",
   "nbconvert_exporter": "python",
   "pygments_lexer": "ipython3",
   "version": "3.9.12"
  }
 },
 "nbformat": 4,
 "nbformat_minor": 5
}
